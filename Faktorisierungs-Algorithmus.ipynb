{
  "metadata": {
    "language_info": {
      "codemirror_mode": {
        "name": "python",
        "version": 3
      },
      "file_extension": ".py",
      "mimetype": "text/x-python",
      "name": "python",
      "nbconvert_exporter": "python",
      "pygments_lexer": "ipython3",
      "version": "3.8"
    },
    "kernelspec": {
      "name": "python",
      "display_name": "Python (Pyodide)",
      "language": "python"
    }
  },
  "nbformat_minor": 4,
  "nbformat": 4,
  "cells": [
    {
      "cell_type": "code",
      "source": "from random import randint, randrange\nimport math\nfrom datetime import datetime",
      "metadata": {
        "trusted": true
      },
      "execution_count": 1,
      "outputs": []
    },
    {
      "cell_type": "markdown",
      "source": "# Erweiterder euklidischer Algorithmus",
      "metadata": {}
    },
    {
      "cell_type": "code",
      "source": "# https://www.techiedelight.com/de/extended-euclidean-algorithm-\n# implementation/\ndef gcdx(a, b):\n    if a == 0:\n        return b, 0, 1\n    else:\n        g, x, y = gcdx(b % a, a)\n        return g, y - (b // a) * x, x",
      "metadata": {
        "trusted": true
      },
      "execution_count": 2,
      "outputs": []
    },
    {
      "cell_type": "markdown",
      "source": "# Primzahltests",
      "metadata": {}
    },
    {
      "cell_type": "code",
      "source": "def isprime_deterministic(n):\n    if n == 2 or n == 3:\n        return True\n    if n < 2 or n % 2 == 0:\n        return False\n    if n < 9:\n        return True\n    if n % 3 == 0:\n        return False\n    for i in range(5, math.isqrt(n) + 1, 6):\n        if n % i == 0:\n            return False\n        if n % (i + 2) == 0:\n            return False\n    return True\n\n# https://gist.github.com/Ayrx/5884790\ndef isprime_millerrabin(n, k=40):\n    if n == 2 or n == 3:\n        return True\n    if n % 2 == 0:\n        return False\n    r, s = 0, n - 1\n    while s % 2 == 0:\n        r += 1\n        s //= 2\n    for _ in range(k):\n        a = randrange(2, n - 1)\n        x = pow(a, s, n)\n        if x == 1 or x == n - 1:\n            continue\n        for _ in range(r - 1):\n            x = pow(x, 2, n)\n            if x == n - 1:\n                break\n        else:\n            return False\n    return True\n\ndef nextprime_deterministic(n):\n    while True:\n        n += 1\n        if isprime_deterministic(n):\n            return n\n\ndef nextprime_millerrabin(n):\n    while True:\n        n += 1\n        if isprime_millerrabin(n, 20):\n            return n",
      "metadata": {
        "trusted": true
      },
      "execution_count": 3,
      "outputs": []
    },
    {
      "cell_type": "markdown",
      "source": "# Quadratischer Rest und Wurzel modulo m",
      "metadata": {}
    },
    {
      "cell_type": "code",
      "source": "def issquaremodm(a, m):\n    for i in range(1, m // 2):\n        if (i * i) % m == a % m:\n            return True\n    return False\n\ndef sqrtmodm(a, m):\n    for i in range(1, m // 2):\n        if (i * i) % m == a % m:\n            return i\n    return None",
      "metadata": {
        "trusted": true
      },
      "execution_count": 4,
      "outputs": []
    },
    {
      "cell_type": "markdown",
      "source": "# Rechenoperationen",
      "metadata": {}
    },
    {
      "cell_type": "code",
      "source": "def ideal_reduce(idealin, d):\n    idealout = idealin[:]\n    while True:\n        idealout[1] %= (2 * idealout[0])\n        if idealout[1] > idealout[0]:\n            idealout[1] -= 2 * idealout[0]\n        c = (idealout[1] * idealout[1] + d) // (4 * idealout[0])\n        if idealout[0] <= c:\n            if idealout[0] == c and idealout[1] < 0:\n                idealout[1] *= -1\n            return idealout\n        idealout[0] = c\n        idealout[1] *= -1\n\ndef ideal_generate(a, d):\n    if a <= 2:\n        a = 3\n    p = nextprime_deterministic(a)\n    while not issquaremodm(-d, p):\n        p = nextprime_deterministic(p + 1)\n    b = sqrtmodm(-d, p)\n    if d % 2 != b % 2:\n        b = p - b\n    return ideal_reduce([p, b], d)\n\ndef ideal_unit(d):\n    if (d % 4) == 0:\n        return [1, 0]\n    else:\n        return [1, 1]\n\ndef ideal_inverse(idealin, d):\n    idealout = [idealin[0], idealin[1] * -1]\n    return ideal_reduce(idealout, d)\n\ndef ideal_multi(idealin1, idealin2, d):\n    g, u1, u2 = gcdx(idealin1[0], idealin2[0])\n    if g == 1:\n        idealout = [idealin1[0] * idealin2[0], idealin2[1] + u2 * \n                    idealin2[0] * (idealin1[1] - idealin2[1])]\n    else:\n        g, v1, v2 = gcdx(g, (idealin1[1] + idealin2[1]) // 2)\n        idealout = [(idealin1[0] * idealin2[0]) // g ** 2,\n                    idealin2[1] + v1 * u2 * (idealin2[0] // g) * \n                    (idealin1[1] - idealin2[1]) - v2 *\n                    ((idealin2[1] * idealin2[1] + d) // (2 * g))]\n    return ideal_reduce(idealout, d)\n\ndef ideal_square(idealin, d):\n    g, u1, u2 = gcdx(idealin[0], idealin[1])\n    idealout = [(idealin[0] // g) ** 2, idealin[1] - u2 *\n                ((idealin[1] * idealin[1] + d) // (2 * g))]\n    return ideal_reduce(idealout, d)\n\ndef ideal_power(idealin, n, d):\n    idealout = idealin[:]\n    if n == 0:\n        return ideal_unit(d)\n    n2 = format(n, \"b\")\n    for i in range(1, len(n2)):\n        idealout = ideal_square(idealout, d)\n        # print(\"s\", end=\"\")\n        if n2[i] == \"1\":\n            idealout = ideal_multi(idealout, idealin, d)\n            # print(\"m\", end=\"\")\n    return idealout",
      "metadata": {
        "trusted": true
      },
      "execution_count": 5,
      "outputs": []
    },
    {
      "cell_type": "markdown",
      "source": "# Sukzessives Quadrieren",
      "metadata": {}
    },
    {
      "cell_type": "code",
      "source": "def ideal_squaretoamb(idealin, d):\n    ideal0 = ideal_unit(d)\n    ideal1 = idealin[:]\n    for i in range(d.bit_length() // 2):\n        ideal2 = ideal_square(ideal1, d)\n        # print(ideal1)\n        if ideal2 == ideal0:\n            # print(\"found with exponent 2^\" + str(i))\n            return ideal1\n        ideal1 = ideal2\n    return ideal1",
      "metadata": {
        "trusted": true
      },
      "execution_count": 6,
      "outputs": []
    },
    {
      "cell_type": "markdown",
      "source": "# Random Walk",
      "metadata": {}
    },
    {
      "cell_type": "code",
      "source": "def rwinit(idealin, bound, s, ideals, expo, d):\n    for i in range(s):\n        expo.append(randint(0, bound))\n        ideals.append(ideal_power(idealin, expo[i], d))\n\ndef rwalk(idealin, n, d):\n    ideals = []\n    expo = []\n    ideal1 = idealin[:]\n    ideal2 = idealin[:]\n    p = 8191\n    s = 16\n    t1 = 1\n    t2 = 1\n    rwinit(idealin, n * n, s, ideals, expo, d)\n    for k in range(n):\n        g = ((ideal1[1] * ideal1[1]) % p) % s\n        t1 += expo[g]\n        ideal1 = ideal_multi(ideal1, ideals[g], d)\n        for j in range(2):\n            g = ((ideal2[1] * ideal2[1]) % p) % s\n            t2 += expo[g]\n            ideal2 = ideal_multi(ideal2, ideals[g], d)\n        if ideal1 == ideal2:\n            return t2 - t1\n    return 0",
      "metadata": {
        "trusted": true
      },
      "execution_count": 7,
      "outputs": []
    },
    {
      "cell_type": "markdown",
      "source": "# Vielfaches der Klassenzahl",
      "metadata": {}
    },
    {
      "cell_type": "code",
      "source": "def poexpo(a, b):\n    x = 1\n    for i in range(math.isqrt(a) + 1, math.isqrt(b)):\n        x *= 2 * abs(i) + 1\n    if (a % 2) == 1:\n        a += 1\n    for i in range(a + 1, b, 2):\n        if isprime_deterministic(abs(i)):\n            x *= i\n    return x",
      "metadata": {
        "trusted": true
      },
      "execution_count": 8,
      "outputs": []
    },
    {
      "cell_type": "markdown",
      "source": "# Faktorisierung",
      "metadata": {}
    },
    {
      "cell_type": "code",
      "source": "def factorizealg0(s, x, pbound):\n    d = s * x\n    h = poexpo(1, pbound)\n    i1 = 1\n    i2 = 1\n    while i1 <= i2:\n        i1 += 1\n        print(\".\", end=\"\")\n        ideal1 = ideal_generate(randint(3, 64000), d)\n        ideal2 = ideal_power(ideal1, h, d)\n        ideal3 = ideal_squaretoamb(ideal2, d)\n        if ideal3 != ideal_inverse(ideal3, d):\n            print(\":\", end=\"\")\n            t = rwalk(ideal3, pbound, d)\n            if t > 0:\n                print(\";\", end=\"\")\n                while (t % 2) == 0:\n                    t //= 2\n                # print(\"(\" + str(t) + \")\", end=\"\")\n                ideal2 = ideal_power(ideal2, t, d)\n                ideal3 = ideal_squaretoamb(ideal2, d)\n        if ideal3 == ideal_inverse(ideal3, d):\n            print(\"!\", end=\"\") \n            # print(str(ideal3), end=\"\")\n            i2 = 8\n            f = 2 * ideal3[0] - ideal3[1]\n            f = gcdx(x, f)[0]\n            if f > 1:\n                return f\n    return 0\n\ndef factorizealg(x, pbound, n):\n    if (x % 2) == 0:\n        return 2\n    s = (x + 2) % 4\n    for i in range(n):\n        if s > 1 and (x % s) == 0:\n            return s\n        a = factorizealg0(s, x, pbound)\n        if a > 1:\n            return a\n        s += 4\n        while not isprime_deterministic(s):\n            s += 4\n    return 0\n\ndef factorize(x, pbound=-1, n=-1):\n    tstart = datetime.now()\n    switcher = {\n        0: [int(12000 * math.e ** (0.05 * (len(str(x)) - 50)) +\n                7000), 100],\n        1: [int(10000 * math.e ** (0.025 * (len(str(x)) - 30)) +\n                5000), 100],\n        2: [int(20000 * math.e ** (0.05 * (len(str(x)) - 40)) +\n                10000), 50],\n        3: [int(10000 * math.e ** (0.025 * (len(str(x)) - 30)) +\n                5000), 300],\n        4: [int(20000 * math.e ** (0.05 * (len(str(x)) - 40)) +\n                10000), 200],\n    }\n    for i in range(5):\n        a = x\n        b = 1\n        factors = []\n        count = 0\n        tnow = str(datetime.now() - tstart)\n        if int(tnow[0]) >= 1:\n            print(\"!\")\n            break\n        if pbound < 0:\n            pbound = switcher.get(i)[0]\n        if n < 0:\n            n = switcher.get(i)[1]\n        while not isprime_millerrabin(x):\n            print(i + 1, \"(\", end=\"\")\n            factors.append(factorizealg(x, pbound, n))\n            print(\") \", end=\"\")\n            if factors[count] == 0:\n                factors.pop(-1)\n                break\n            x //= factors[count]\n            count += 1\n        factors.append(x)\n        factors.sort()\n        count += 1\n        for j in range(count):\n            b *= factors[j]\n        if a == b:\n            for j in range(count):\n                if isprime_millerrabin(factors[j]):\n                    tnow = str(datetime.now() - tstart)\n                    return \"No Error\", factors, tnow\n    tnow = str(datetime.now() - tstart)\n    return \"Error #1\", \"factors not computable\", tnow",
      "metadata": {
        "trusted": true
      },
      "execution_count": 9,
      "outputs": []
    },
    {
      "cell_type": "markdown",
      "source": "# Beispiel",
      "metadata": {}
    },
    {
      "cell_type": "code",
      "source": "exp1 = randint(20, 50)\nexp2 = randint(10, exp1 - 10)\nexp1 -= exp2\np1 = nextprime_millerrabin(randint(10 ** (exp1 - 1), 10 ** exp1))\np2 = nextprime_millerrabin(randint(10 ** (exp2 - 1), 10 ** exp2))\nx = p1 * p2\n\nprint(\"Faktorisierung von \" +  str(x) + \":\")\nfactorize(x)",
      "metadata": {
        "trusted": true
      },
      "execution_count": null,
      "outputs": [
        {
          "name": "stdout",
          "text": "Faktorisierung von 751422340691020622345426566029929167241:\n1 (.:.:",
          "output_type": "stream"
        }
      ]
    }
  ]
}