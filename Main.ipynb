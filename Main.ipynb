{
 "cells": [
  {
   "cell_type": "code",
   "execution_count": null,
   "id": "07ff188b",
   "metadata": {},
   "outputs": [],
   "source": [
    "from factorize import *\n",
    "from randomnum import randomnum"
   ]
  },
  {
   "cell_type": "code",
   "execution_count": null,
   "id": "a648b556",
   "metadata": {},
   "outputs": [],
   "source": [
    "# Faktorisierung einer 20- bis 40-stelligen Zahl mit 2 Primfaktoren\n",
    "x = randomnum(2, 20, 40)\n",
    "print('Faktorisierung von ' +  str(x) + ':')\n",
    "factorize(x)"
   ]
  }
 ],
 "metadata": {
  "kernelspec": {
   "display_name": "Python 3 (ipykernel)",
   "language": "python",
   "name": "python3"
  },
  "language_info": {
   "codemirror_mode": {
    "name": "ipython",
    "version": 3
   },
   "file_extension": ".py",
   "mimetype": "text/x-python",
   "name": "python",
   "nbconvert_exporter": "python",
   "pygments_lexer": "ipython3",
   "version": "3.9.12"
  }
 },
 "nbformat": 4,
 "nbformat_minor": 5
}
